{
 "cells": [
  {
   "cell_type": "code",
   "execution_count": 1,
   "id": "ed42460c",
   "metadata": {},
   "outputs": [],
   "source": [
    "from DataSet import DataSet\n",
    "\n",
    "my_data_set = DataSet(\"06122022_overnight\", drifts=None, detunings=None)"
   ]
  },
  {
   "cell_type": "code",
   "execution_count": 2,
   "id": "c1882e6e",
   "metadata": {},
   "outputs": [
    {
     "name": "stdout",
     "output_type": "stream",
     "text": [
      "Processing spectrum for Data Set 06122022_overnight, Drift 26.0 dBm\n",
      "Processing spectrum for Data Set 06122022_overnight, Drift 26.5 dBm\n",
      "Processing spectrum for Data Set 06122022_overnight, Drift 27.0 dBm\n",
      "Processing spectrum for Data Set 06122022_overnight, Drift 27.5 dBm\n",
      "Processing spectrum for Data Set 06122022_overnight, Drift 28.0 dBm\n",
      "Processing spectrum for Data Set 06122022_overnight, Drift 28.5 dBm\n",
      "Processing spectrum for Data Set 06122022_overnight, Drift 29.0 dBm\n",
      "Finding noise floor for Data Set 06122022_overnight, Drift 26.0 dBm\n",
      "Finding noise floor for Data Set 06122022_overnight, Drift 26.5 dBm\n",
      "Finding noise floor for Data Set 06122022_overnight, Drift 27.0 dBm\n",
      "Finding noise floor for Data Set 06122022_overnight, Drift 27.5 dBm\n",
      "Finding noise floor for Data Set 06122022_overnight, Drift 28.0 dBm\n",
      "Finding noise floor for Data Set 06122022_overnight, Drift 28.5 dBm\n",
      "Finding noise floor for Data Set 06122022_overnight, Drift 29.0 dBm\n",
      "Setting peak coordinates for Data Set 06122022_overnight, Drift 26.0 dBm\n",
      "Setting peak coordinates for Data Set 06122022_overnight, Drift 26.5 dBm\n",
      "Setting peak coordinates for Data Set 06122022_overnight, Drift 27.0 dBm\n",
      "Setting peak coordinates for Data Set 06122022_overnight, Drift 27.5 dBm\n",
      "Setting peak coordinates for Data Set 06122022_overnight, Drift 28.0 dBm\n",
      "Setting peak coordinates for Data Set 06122022_overnight, Drift 28.5 dBm\n",
      "Setting peak coordinates for Data Set 06122022_overnight, Drift 29.0 dBm\n"
     ]
    }
   ],
   "source": [
    "my_data_set.set_aligned_spectra()\n",
    "my_data_set.save_noise_threshold()\n",
    "my_data_set.save_peak_coordinates()\n",
    "my_data_set.save_peak_fits()"
   ]
  },
  {
   "cell_type": "code",
   "execution_count": null,
   "id": "8d8ffc8b",
   "metadata": {},
   "outputs": [],
   "source": [
    "my_data_set.save_noise_threshold()\n",
    "my_data_set.save_peak_coordinates()\n",
    "my_data_set.save_peak_fits()"
   ]
  },
  {
   "cell_type": "code",
   "execution_count": null,
   "id": "425966ee",
   "metadata": {},
   "outputs": [],
   "source": [
    "my_data_set.save_peak_coordinates()\n",
    "my_data_set.save_peak_fits()"
   ]
  },
  {
   "cell_type": "code",
   "execution_count": null,
   "id": "db08d798",
   "metadata": {},
   "outputs": [],
   "source": [
    "my_data_set.save_peak_fits()"
   ]
  },
  {
   "cell_type": "code",
   "execution_count": null,
   "id": "36284ea0",
   "metadata": {},
   "outputs": [
    {
     "name": "stdout",
     "output_type": "stream",
     "text": [
      "Loading aligned spectra\n",
      "Loading noise threshold\n"
     ]
    }
   ],
   "source": [
    "my_data_set.load_aligned_spectra()\n",
    "my_data_set.load_noise_threshold()\n",
    "my_data_set.load_peak_coordinates()\n",
    "my_data_set.load_peak_fits()"
   ]
  },
  {
   "cell_type": "code",
   "execution_count": 2,
   "id": "2a4d5ae2",
   "metadata": {},
   "outputs": [
    {
     "name": "stdout",
     "output_type": "stream",
     "text": [
      "Loading noise threshold\n"
     ]
    },
    {
     "ename": "AttributeError",
     "evalue": "'Group' object has no attribute 'spectrum_obj'",
     "output_type": "error",
     "traceback": [
      "\u001b[0;31m---------------------------------------------------------------------------\u001b[0m",
      "\u001b[0;31mAttributeError\u001b[0m                            Traceback (most recent call last)",
      "Cell \u001b[0;32mIn[2], line 1\u001b[0m\n\u001b[0;32m----> 1\u001b[0m \u001b[43mmy_data_set\u001b[49m\u001b[38;5;241;43m.\u001b[39;49m\u001b[43mload_noise_threshold\u001b[49m\u001b[43m(\u001b[49m\u001b[43m)\u001b[49m\n\u001b[1;32m      2\u001b[0m my_data_set\u001b[38;5;241m.\u001b[39mload_peak_coordinates()\n\u001b[1;32m      3\u001b[0m my_data_set\u001b[38;5;241m.\u001b[39mload_peak_fits()\n",
      "File \u001b[0;32m/mnt/2TB/Documents/Other Programming/Physics Internship/Optomechanics-Data-Analysis/Frequency Comb Analysis/DataSet.py:98\u001b[0m, in \u001b[0;36mDataSet.load_noise_threshold\u001b[0;34m(self)\u001b[0m\n\u001b[1;32m     96\u001b[0m \u001b[38;5;28mself\u001b[39m\u001b[38;5;241m.\u001b[39mset_noise_threshold_paths()\n\u001b[1;32m     97\u001b[0m \u001b[38;5;28;01mfor\u001b[39;00m drift_obj \u001b[38;5;129;01min\u001b[39;00m \u001b[38;5;28mself\u001b[39m\u001b[38;5;241m.\u001b[39mdrift_objects:\n\u001b[0;32m---> 98\u001b[0m     \u001b[43mdrift_obj\u001b[49m\u001b[38;5;241;43m.\u001b[39;49m\u001b[43mload_noise_threshold\u001b[49m\u001b[43m(\u001b[49m\u001b[43m)\u001b[49m\n",
      "File \u001b[0;32m/mnt/2TB/Documents/Other Programming/Physics Internship/Optomechanics-Data-Analysis/Frequency Comb Analysis/Drift.py:141\u001b[0m, in \u001b[0;36mDrift.load_noise_threshold\u001b[0;34m(self)\u001b[0m\n\u001b[1;32m    139\u001b[0m \u001b[38;5;28;01mdef\u001b[39;00m \u001b[38;5;21mload_noise_threshold\u001b[39m(\u001b[38;5;28mself\u001b[39m):\n\u001b[1;32m    140\u001b[0m     \u001b[38;5;28;01mfor\u001b[39;00m detuning_obj \u001b[38;5;129;01min\u001b[39;00m \u001b[38;5;28mself\u001b[39m\u001b[38;5;241m.\u001b[39mdetuning_objects:\n\u001b[0;32m--> 141\u001b[0m         \u001b[43mdetuning_obj\u001b[49m\u001b[38;5;241;43m.\u001b[39;49m\u001b[43mload_noise_threshold\u001b[49m\u001b[43m(\u001b[49m\u001b[43m)\u001b[49m\n",
      "File \u001b[0;32m/mnt/2TB/Documents/Other Programming/Physics Internship/Optomechanics-Data-Analysis/Frequency Comb Analysis/Detuning.py:67\u001b[0m, in \u001b[0;36mDetuning.load_noise_threshold\u001b[0;34m(self)\u001b[0m\n\u001b[1;32m     65\u001b[0m \u001b[38;5;28;01mdef\u001b[39;00m \u001b[38;5;21mload_noise_threshold\u001b[39m(\u001b[38;5;28mself\u001b[39m):\n\u001b[1;32m     66\u001b[0m     \u001b[38;5;28;01mfor\u001b[39;00m group_obj \u001b[38;5;129;01min\u001b[39;00m \u001b[38;5;28mself\u001b[39m\u001b[38;5;241m.\u001b[39mgroup_objects:\n\u001b[0;32m---> 67\u001b[0m         \u001b[43mgroup_obj\u001b[49m\u001b[38;5;241;43m.\u001b[39;49m\u001b[43mload_noise_threshold\u001b[49m\u001b[43m(\u001b[49m\u001b[43m)\u001b[49m\n",
      "File \u001b[0;32m/mnt/2TB/Documents/Other Programming/Physics Internship/Optomechanics-Data-Analysis/Frequency Comb Analysis/Group.py:118\u001b[0m, in \u001b[0;36mGroup.load_noise_threshold\u001b[0;34m(self)\u001b[0m\n\u001b[1;32m    116\u001b[0m \u001b[38;5;28;01mdef\u001b[39;00m \u001b[38;5;21mload_noise_threshold\u001b[39m(\u001b[38;5;28mself\u001b[39m):\n\u001b[1;32m    117\u001b[0m     path \u001b[38;5;241m=\u001b[39m \u001b[38;5;28mself\u001b[39m\u001b[38;5;241m.\u001b[39mnoise_threshold_path\n\u001b[0;32m--> 118\u001b[0m     _, \u001b[38;5;28;43mself\u001b[39;49m\u001b[38;5;241;43m.\u001b[39;49m\u001b[43mspectrum_obj\u001b[49m\u001b[38;5;241m.\u001b[39mnoise_threshold \u001b[38;5;241m=\u001b[39m get_file_contents_from_path(path)\n",
      "\u001b[0;31mAttributeError\u001b[0m: 'Group' object has no attribute 'spectrum_obj'"
     ]
    }
   ],
   "source": [
    "my_data_set.load_noise_threshold()\n",
    "my_data_set.load_peak_coordinates()\n",
    "my_data_set.load_peak_fits()"
   ]
  },
  {
   "cell_type": "code",
   "execution_count": null,
   "id": "c34cc117",
   "metadata": {},
   "outputs": [],
   "source": [
    "my_data_set.load_peak_coordinates()\n",
    "my_data_set.load_peak_fits()"
   ]
  },
  {
   "cell_type": "code",
   "execution_count": null,
   "id": "391f0198",
   "metadata": {},
   "outputs": [],
   "source": [
    "my_data_set.load_peak_fits()"
   ]
  },
  {
   "cell_type": "code",
   "execution_count": null,
   "id": "3115a9da",
   "metadata": {},
   "outputs": [],
   "source": [
    "my_data_set.plot_spectra(groups=0, noise=True, markers=True, fit=True)"
   ]
  },
  {
   "cell_type": "code",
   "execution_count": null,
   "id": "1820bba1",
   "metadata": {},
   "outputs": [],
   "source": [
    "my_data_set.plot_peak_fits(groups=3)"
   ]
  },
  {
   "cell_type": "code",
   "execution_count": null,
   "id": "affec212",
   "metadata": {},
   "outputs": [],
   "source": [
    "my_data_set.envelope_trends(\"Plot\")"
   ]
  }
 ],
 "metadata": {
  "kernelspec": {
   "display_name": "Python 3 (ipykernel)",
   "language": "python",
   "name": "python3"
  },
  "language_info": {
   "codemirror_mode": {
    "name": "ipython",
    "version": 3
   },
   "file_extension": ".py",
   "mimetype": "text/x-python",
   "name": "python",
   "nbconvert_exporter": "python",
   "pygments_lexer": "ipython3",
   "version": "3.11.2"
  }
 },
 "nbformat": 4,
 "nbformat_minor": 5
}

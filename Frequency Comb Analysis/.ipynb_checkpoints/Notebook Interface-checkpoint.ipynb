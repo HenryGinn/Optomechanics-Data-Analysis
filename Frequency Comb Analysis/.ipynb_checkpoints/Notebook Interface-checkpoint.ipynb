{
 "cells": [
  {
   "cell_type": "code",
   "execution_count": 1,
   "id": "7b89fa1d",
   "metadata": {},
   "outputs": [
    {
     "name": "stdout",
     "output_type": "stream",
     "text": [
      "Loading aligned spectra\n",
      "Loading noise threshold\n",
      "Loading peak coordinates\n"
     ]
    }
   ],
   "source": [
    "from DataSet import DataSet\n",
    "\n",
    "my_data_set = DataSet(\"06122022_overnight\", drifts=None, detunings=None)\n",
    "\n",
    "#my_data_set.plot_spectra(groups=0, noise=False, markers=False, fit=True)\n",
    "#my_data_set.plot_peak_fits(groups=3)\n",
    "#my_data_set.envelope_trends(\"Plot\")\n"
   ]
  },
  {
   "cell_type": "code",
   "execution_count": 2,
   "id": "f76abcd6",
   "metadata": {},
   "outputs": [
    {
     "name": "stdout",
     "output_type": "stream",
     "text": [
      "Loading aligned spectra\n"
     ]
    }
   ],
   "source": [
    "#my_data_set.set_aligned_spectra()\n",
    "my_data_set.load_aligned_spectra()"
   ]
  },
  {
   "cell_type": "code",
   "execution_count": 3,
   "id": "9030694e",
   "metadata": {},
   "outputs": [
    {
     "name": "stdout",
     "output_type": "stream",
     "text": [
      "Loading noise threshold\n"
     ]
    }
   ],
   "source": [
    "#my_data_set.save_noise_threshold()\n",
    "my_data_set.load_noise_threshold()"
   ]
  },
  {
   "cell_type": "code",
   "execution_count": 4,
   "id": "44b11e30",
   "metadata": {},
   "outputs": [
    {
     "name": "stdout",
     "output_type": "stream",
     "text": [
      "Loading peak coordinates\n"
     ]
    }
   ],
   "source": [
    "#my_data_set.save_peak_coordinates()\n",
    "my_data_set.load_peak_coordinates()"
   ]
  },
  {
   "cell_type": "code",
   "execution_count": null,
   "id": "f16a48cc",
   "metadata": {},
   "outputs": [],
   "source": [
    "#my_data_set.save_peak_fits()\n",
    "my_data_set.load_peak_fits()\n"
   ]
  }
 ],
 "metadata": {
  "kernelspec": {
   "display_name": "Python 3 (ipykernel)",
   "language": "python",
   "name": "python3"
  },
  "language_info": {
   "codemirror_mode": {
    "name": "ipython",
    "version": 3
   },
   "file_extension": ".py",
   "mimetype": "text/x-python",
   "name": "python",
   "nbconvert_exporter": "python",
   "pygments_lexer": "ipython3",
   "version": "3.11.2"
  }
 },
 "nbformat": 4,
 "nbformat_minor": 5
}

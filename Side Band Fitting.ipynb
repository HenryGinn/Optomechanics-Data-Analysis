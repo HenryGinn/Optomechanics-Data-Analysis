{
 "cells": [
  {
   "cell_type": "code",
   "execution_count": 11,
   "id": "e60c7d18",
   "metadata": {},
   "outputs": [],
   "source": [
    "%matplotlib inline\n",
    "import os\n",
    "from scipy import optimize\n",
    "from scipy.optimize import leastsq\n",
    "from numpy import *\n",
    "import glob\n",
    "from matplotlib import *\n",
    "from pylab import *\n",
    "\n",
    "import matplotlib.font_manager as fm\n",
    "font_names = [f.name for f in fm.fontManager.ttflist]\n",
    "# mpl.rcParams['font.family'] = 'Times'\n",
    "# mpl.rcParams['mathtext.fontset'] = 'custom'\n",
    "# mpl.rcParams['mathtext.rm'] = 'Times'\n",
    "# mpl.rcParams['mathtext.it'] = 'Times:italic'\n",
    "# mpl.rcParams['mathtext.bf'] = 'Times'\n",
    "plt.rcParams['font.size'] = 12\n",
    "plt.rcParams['axes.linewidth'] = 0.5\n",
    "plt.rcParams['axes.formatter.limits'] = [-5,5]"
   ]
  },
  {
   "cell_type": "code",
   "execution_count": 12,
   "id": "275ef32e",
   "metadata": {},
   "outputs": [],
   "source": [
    "def get_file_detuning(file):\n",
    "    underscore_locations = [index for index, character in enumerate(file)\n",
    "                            if character == \"_\"]\n",
    "    left = underscore_locations[9] + 1\n",
    "    right = underscore_locations[10]\n",
    "    return int(float(file[left:right]))\n",
    "\n",
    "def get_files():\n",
    "    os.chdir('/home/henry/Documents/Physics Internship/15112022/27_dBm/Spectrum/')\n",
    "    files= glob.glob('*.txt')\n",
    "    return files\n",
    "\n",
    "def get_detuning_files_dict():\n",
    "    files = get_files()\n",
    "    detunings = sorted(list(set([get_file_detuning(file) for file in files])), reverse=True)\n",
    "    detuning_files_dict = {detuning: [] for detuning in detunings}\n",
    "    for file in files:\n",
    "        detuning_files_dict[get_file_detuning(file)].append(file)\n",
    "    return detuning_files_dict, detunings\n",
    "\n",
    "def get_file_contents(file):\n",
    "    with open(file,'r') as f:\n",
    "        file_contents=f.readlines()\n",
    "    return file_contents"
   ]
  },
  {
   "cell_type": "code",
   "execution_count": 13,
   "id": "21e1e5dc",
   "metadata": {},
   "outputs": [],
   "source": [
    "def convert_to_mW(input_list):\n",
    "    converted_list = (10**(input_list/10))/1000\n",
    "    return converted_list"
   ]
  },
  {
   "cell_type": "code",
   "execution_count": 31,
   "id": "22dd2010",
   "metadata": {},
   "outputs": [],
   "source": [
    "def get_voltage(data):\n",
    "    voltage = [float(line.strip().split('\\t')[0]) for line in data[1:]]\n",
    "    voltage = array(voltage)\n",
    "    return voltage\n",
    "\n",
    "def get_frequency(detuning):\n",
    "    file = detuning_files_dict[detuning][0]\n",
    "    raw_data = get_file_contents(file)\n",
    "    frequency = [float(line.strip().split('\\t')[1]) for line in raw_data[1:]]\n",
    "    frequency = array(frequency)\n",
    "    return frequency\n",
    "\n",
    "def get_S21_detuning(voltage, power):\n",
    "    power_mW = convert_to_mW(power)\n",
    "    S21 = voltage/power_mW\n",
    "    return S21\n",
    "\n",
    "def get_S21_normalised(S21_list, index_maxima):\n",
    "    S21_normalised = [S21/S21[index] for S21, index in zip(S21_list, index_maxima)]\n",
    "    return S21_normalised"
   ]
  },
  {
   "cell_type": "code",
   "execution_count": 34,
   "id": "adf50abd",
   "metadata": {},
   "outputs": [],
   "source": [
    "def get_voltage_from_file(file):\n",
    "    raw_data = get_file_contents(file)\n",
    "    voltage = get_voltage(raw_data)\n",
    "    voltage = convert_to_mW(voltage)\n",
    "    S21_detuning = get_S21_detuning(voltage, power)\n",
    "    index_maximum = get_index_maximum(frequency, voltage)\n",
    "    return S21_detuning, index_maximum"
   ]
  },
  {
   "cell_type": "code",
   "execution_count": 15,
   "id": "70e6cc43",
   "metadata": {},
   "outputs": [],
   "source": [
    "def get_index_maximum(frequency, voltage):\n",
    "    voltage = get_moving_average(voltage, 6)\n",
    "    max_index = argmax(array(voltage))\n",
    "    return max_index\n",
    "\n",
    "def get_moving_average(points, window_width):\n",
    "    N = len(points)\n",
    "    window_points = [[points[inside_window(i+j, N)] for i in range(window_width)]\n",
    "                     for j in range(N)]\n",
    "    moving_average = array([sum(window)/window_width for window in window_points])\n",
    "    return moving_average\n",
    "\n",
    "def inside_window(i, N):\n",
    "    if i < 0:\n",
    "        return 0\n",
    "    elif i > N-1:\n",
    "        return N-1\n",
    "    return i"
   ]
  },
  {
   "cell_type": "code",
   "execution_count": 16,
   "id": "ed992e6d",
   "metadata": {},
   "outputs": [],
   "source": [
    "def offset_frequency(frequency, min_index, max_index):\n",
    "    frequency = frequency[0:len(frequency) - (max_index - min_index)]\n",
    "    resonant_frequency = frequency[min_index]\n",
    "    frequency -= resonant_frequency\n",
    "    return frequency\n",
    "\n",
    "def get_S21_offset_list(S21_list, min_index, max_index):\n",
    "    S21_offset_list = [get_S21_offset(S21, index, min_index, max_index)\n",
    "                       for S21, index in zip(S21_list, index_maxima)]\n",
    "    return S21_offset_list\n",
    "\n",
    "def get_S21_offset(S21, index, min_index, max_index):\n",
    "    left_index = index - min_index\n",
    "    right_index = len(S21) - (max_index - index)\n",
    "    S21_offset = S21[left_index:right_index]\n",
    "    return S21_offset"
   ]
  },
  {
   "cell_type": "code",
   "execution_count": 36,
   "id": "654ab8c0",
   "metadata": {},
   "outputs": [],
   "source": [
    "def create_figure_1(S21_list, frequency, filter_rate):\n",
    "    S21_list = ensure_2D_list(S21_list)\n",
    "    for index, S21 in enumerate(S21_list):\n",
    "        if index % filter_rate == 0:\n",
    "            plot_figure_1(frequency, S21)\n",
    "    add_plot_labels()\n",
    "\n",
    "def ensure_2D_list(test_list):\n",
    "    if hasattr(test_list[0], '__iter__'):\n",
    "        return test_list\n",
    "    else:\n",
    "        return [test_list]\n",
    "\n",
    "def add_plot_labels():\n",
    "    figure(1)\n",
    "    plt.title(\"Title\")\n",
    "    #plt.xlim(-2*10**7, 3.5*10**7)\n",
    "    x_ticks = plt.xticks()[0]\n",
    "    x_labels = [f'{value:.0f}' for value in plt.xticks()[0]/10**3]\n",
    "    plt.xticks(x_ticks, x_labels)\n",
    "\n",
    "def plot_figure_1(frequency, voltage):\n",
    "    figure(1)\n",
    "    plt.plot(frequency, voltage,'.',alpha=1)\n",
    "    plt.xlabel('${\\omega_c}$ (kHz)')\n",
    "    plt.ylabel('Amplitude')"
   ]
  },
  {
   "cell_type": "code",
   "execution_count": 18,
   "id": "eaa27aa1",
   "metadata": {},
   "outputs": [],
   "source": [
    "def peval(freq,p):\n",
    "    F = p[0]\n",
    "    gamma = p[1]\n",
    "    noise = p[2]\n",
    "    w = p[3]\n",
    "    res = (F/(gamma**2+4*(freq-w)**2))+noise\n",
    "    return res\n",
    "\n",
    "def residuals(p,X,f):\n",
    "    res=peval(f,p)-X\n",
    "    return res"
   ]
  },
  {
   "cell_type": "code",
   "execution_count": 27,
   "id": "188987ce",
   "metadata": {},
   "outputs": [],
   "source": [
    "def fit(S21, freq):\n",
    "    p0=[10e-10, 20, 0.6e-14, 0]\n",
    "    #p0=[7e-10, 3.53181220e+01, 5.69756968e-14, 4.02844320e+09]\n",
    "    # The second parameter in p_final is Gamma_m\n",
    "    plsq=leastsq(residuals,p0,args=(S21,freq),full_output=1)\n",
    "    p_final=plsq[0]\n",
    "    return p_final"
   ]
  },
  {
   "cell_type": "code",
   "execution_count": 35,
   "id": "d535ba84",
   "metadata": {},
   "outputs": [
    {
     "data": {
      "image/png": "[encoded data removed]",
      "text/plain": [
       "<Figure size 640x480 with 1 Axes>"
      ]
     },
     "metadata": {},
     "output_type": "display_data"
    }
   ],
   "source": [
    "detuning_files_dict, detunings = get_detuning_files_dict()\n",
    "power = 27\n",
    "for detuning in detunings[0:1]:\n",
    "    file_results = [get_voltage_from_file(file) for file in detuning_files_dict[detuning]]\n",
    "    S21_list_detuning, index_maxima = zip(*file_results)\n",
    "    frequency = get_frequency(detuning)\n",
    "    min_index = min(index_maxima)\n",
    "    max_index = max(index_maxima)\n",
    "    frequency = offset_frequency(frequency, min_index, max_index)\n",
    "    S21_offset_list = get_S21_offset_list(S21_list_detuning, min_index, max_index)\n",
    "    S21_average = average(S21_offset_list, axis=0)\n",
    "    p_final = fit(S21_average, frequency)\n",
    "    # create_figure_1(S21_average, frequency 1)\n",
    "    # plt.plot(frequency,peval(frequency, p_final),'k--', alpha=0.5,linewidth=2.0,label='fit')"
   ]
  }
 ],
 "metadata": {
  "kernelspec": {
   "display_name": "Python 3",
   "language": "python",
   "name": "python3"
  },
  "language_info": {
   "codemirror_mode": {
    "name": "ipython",
    "version": 3
   },
   "file_extension": ".py",
   "mimetype": "text/x-python",
   "name": "python",
   "nbconvert_exporter": "python",
   "pygments_lexer": "ipython3",
   "version": "3.8.10"
  },
  "vscode": {
   "interpreter": {
    "hash": "916dbcbb3f70747c44a77c7bcd40155683ae19c65e1c03b4aa3499c5328201f1"
   }
  }
 },
 "nbformat": 4,
 "nbformat_minor": 5
}
